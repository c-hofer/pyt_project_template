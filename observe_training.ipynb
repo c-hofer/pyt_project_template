{
 "cells": [
  {
   "cell_type": "code",
   "execution_count": null,
   "metadata": {},
   "outputs": [],
   "source": [
    "%load_ext autoreload\n",
    "%autoreload 2\n",
    "\n",
    "\n",
    "import os\n",
    "import sys\n",
    "import glob\n",
    "import torch\n",
    "import json\n",
    "import pandas as pd\n",
    "import time\n",
    "import qgrid\n",
    "import torch\n",
    "\n",
    "\n",
    "from pytorch_utils.logging import LoggerReader\n",
    "from pytorch_utils.collection_utils import keychain_value_iter\n",
    "from collections import defaultdict, OrderedDict\n",
    "from pathlib import Path\n",
    "from IPython.display import display\n",
    "\n",
    "import matplotlib.pyplot as plt\n",
    "import matplotlib\n",
    "# import mpld3\n",
    "# mpld3.enable_notebook()\n",
    "%matplotlib inline"
   ]
  },
  {
   "cell_type": "code",
   "execution_count": null,
   "metadata": {},
   "outputs": [],
   "source": [
    "root = Path('/tmp/testing')"
   ]
  },
  {
   "cell_type": "code",
   "execution_count": null,
   "metadata": {},
   "outputs": [],
   "source": [
    "args_white_list = {\n",
    " 'model', \n",
    " 'lr_init',\n",
    " 'weight_decay',\n",
    "}\n",
    "\n",
    "tag = None\n",
    "\n",
    "\n",
    "def load_results():\n",
    "    global RESULTS\n",
    "    RESULTS = [LoggerReader(r) for r in glob.glob(str(root / '*'))]\n",
    "    \n",
    "    if tag is not None:\n",
    "        RESULTS = [r for r in RESULTS if r.experiment_args['tag'] == tag]\n",
    "        \n",
    "    RESULTS = sorted(RESULTS, key=lambda x: x.date)\n",
    "\n",
    "def args_df_from_results():\n",
    "    load_results()\n",
    "    R = []\n",
    "    \n",
    "    for i, r in enumerate(RESULTS):\n",
    "        \n",
    "        df = {k: str(v) if isinstance(v, (list, tuple)) else v for  k, v in r.experiment_args.items() if k in args_white_list}\n",
    "        df['date'] = r.date\n",
    "        df = pd.DataFrame(df, index=[i])       \n",
    "        \n",
    "        R.append(df)   \n",
    "        \n",
    "    return pd.concat(R, sort=False)\n",
    "\n",
    "def df_from_results():\n",
    "    A = args_df_from_results()\n",
    "    \n",
    "    tmp = []\n",
    "    for i, r in enumerate(RESULTS):\n",
    "        df = {}\n",
    "        for k in ['acc_train', 'acc_test']:\n",
    "            df[k] = np.mean([run[k][-1] for run in r])\n",
    "            \n",
    "        tmp.append(pd.DataFrame(df, index=[i]))\n",
    "    \n",
    "    B = pd.concat(tmp, sort=False)\n",
    "    return A.join(B) "
   ]
  },
  {
   "cell_type": "code",
   "execution_count": null,
   "metadata": {
    "scrolled": true
   },
   "outputs": [],
   "source": [
    "args_df_from_results()"
   ]
  },
  {
   "cell_type": "code",
   "execution_count": null,
   "metadata": {},
   "outputs": [],
   "source": [
    "plt.figure()\n",
    "plt.plot(RESULTS[0][0]['batch_loss'])\n",
    "\n",
    "plt.figure()\n",
    "plt.plot(RESULTS[0][0]['acc_train'])\n",
    "plt.plot(RESULTS[0][0]['acc_test'])"
   ]
  },
  {
   "cell_type": "code",
   "execution_count": null,
   "metadata": {},
   "outputs": [],
   "source": [
    "qgrid_widget = qgrid.show_grid(df_from_results(), show_toolbar=True)\n",
    "qgrid_widget"
   ]
  }
 ],
 "metadata": {
  "kernelspec": {
   "display_name": "Python 3",
   "language": "python",
   "name": "python3"
  },
  "language_info": {
   "codemirror_mode": {
    "name": "ipython",
    "version": 3
   },
   "file_extension": ".py",
   "mimetype": "text/x-python",
   "name": "python",
   "nbconvert_exporter": "python",
   "pygments_lexer": "ipython3",
   "version": "3.7.6"
  }
 },
 "nbformat": 4,
 "nbformat_minor": 2
}
