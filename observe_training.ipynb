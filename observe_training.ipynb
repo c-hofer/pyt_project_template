{
 "cells": [
  {
   "cell_type": "code",
   "execution_count": 1,
   "metadata": {},
   "outputs": [],
   "source": [
    "%load_ext autoreload\n",
    "%autoreload 2\n",
    "\n",
    "\n",
    "import os\n",
    "import sys\n",
    "import glob\n",
    "import torch\n",
    "import json\n",
    "import pandas as pd\n",
    "import time\n",
    "import qgrid\n",
    "import torch\n",
    "\n",
    "\n",
    "from pytorch_utils.logging import LoggerReader\n",
    "from pytorch_utils.collection_utils import keychain_value_iter\n",
    "from collections import defaultdict, OrderedDict\n",
    "from pathlib import Path\n",
    "from IPython.display import display\n",
    "\n",
    "import matplotlib.pyplot as plt\n",
    "import matplotlib\n",
    "# import mpld3\n",
    "# mpld3.enable_notebook()\n",
    "%matplotlib inline"
   ]
  },
  {
   "cell_type": "code",
   "execution_count": 2,
   "metadata": {},
   "outputs": [],
   "source": [
    "root = Path('/tmp/testing')"
   ]
  },
  {
   "cell_type": "code",
   "execution_count": 3,
   "metadata": {},
   "outputs": [],
   "source": [
    "args_white_list = {\n",
    " 'lr_init',\n",
    " 'weight_decay',\n",
    "}\n",
    "\n",
    "stats_white_list = {\n",
    "    'acc_train', \n",
    "    'acc_test', \n",
    "}\n",
    "\n",
    "tag = None\n",
    "\n",
    "\n",
    "def load_results():\n",
    "    global RESULTS\n",
    "    RESULTS = [LoggerReader(r) for r in glob.glob(str(root / '*'))]\n",
    "    \n",
    "    if tag is not None:\n",
    "        RESULTS = [r for r in RESULTS if r.experiment_args['tag'] == tag]\n",
    "        \n",
    "    RESULTS = sorted(RESULTS, key=lambda x: x.date)\n",
    "\n",
    "def args_df_from_results():\n",
    "    load_results()\n",
    "    R = []\n",
    "    \n",
    "    for i, r in enumerate(RESULTS):\n",
    "        \n",
    "        df = {k: str(v) if isinstance(v, (list, tuple)) else v for  k, v in r.experiment_args.items() if k in args_white_list}\n",
    "        df['date'] = r.date\n",
    "        df = pd.DataFrame(df, index=[i])       \n",
    "        \n",
    "        R.append(df)   \n",
    "        \n",
    "    return pd.concat(R, sort=False)\n",
    "\n",
    "def df_from_results():\n",
    "    A = args_df_from_results()\n",
    "    \n",
    "    tmp = []\n",
    "    for i, r in enumerate(RESULTS):\n",
    "        df = {}\n",
    "        for k in ['acc_train', 'acc_test']:\n",
    "            df[k] = np.mean([run[k][-1] for run in r])\n",
    "            \n",
    "        tmp.append(pd.DataFrame(df, index=[i]))\n",
    "    \n",
    "    B = pd.concat(tmp, sort=False)\n",
    "    return A.join(B) "
   ]
  },
  {
   "cell_type": "code",
   "execution_count": 4,
   "metadata": {
    "scrolled": true
   },
   "outputs": [
    {
     "data": {
      "text/html": [
       "<div>\n",
       "<style scoped>\n",
       "    .dataframe tbody tr th:only-of-type {\n",
       "        vertical-align: middle;\n",
       "    }\n",
       "\n",
       "    .dataframe tbody tr th {\n",
       "        vertical-align: top;\n",
       "    }\n",
       "\n",
       "    .dataframe thead th {\n",
       "        text-align: right;\n",
       "    }\n",
       "</style>\n",
       "<table border=\"1\" class=\"dataframe\">\n",
       "  <thead>\n",
       "    <tr style=\"text-align: right;\">\n",
       "      <th></th>\n",
       "      <th>lr_init</th>\n",
       "      <th>weight_decay</th>\n",
       "      <th>date</th>\n",
       "    </tr>\n",
       "  </thead>\n",
       "  <tbody>\n",
       "    <tr>\n",
       "      <th>0</th>\n",
       "      <td>0.01</td>\n",
       "      <td>0.001</td>\n",
       "      <td>2020-03-09 11:18:36</td>\n",
       "    </tr>\n",
       "  </tbody>\n",
       "</table>\n",
       "</div>"
      ],
      "text/plain": [
       "   lr_init  weight_decay                date\n",
       "0     0.01         0.001 2020-03-09 11:18:36"
      ]
     },
     "execution_count": 4,
     "metadata": {},
     "output_type": "execute_result"
    }
   ],
   "source": [
    "args_df_from_results()"
   ]
  },
  {
   "cell_type": "code",
   "execution_count": 7,
   "metadata": {},
   "outputs": [
    {
     "data": {
      "text/plain": [
       "[<matplotlib.lines.Line2D at 0x7efc369033d0>]"
      ]
     },
     "execution_count": 7,
     "metadata": {},
     "output_type": "execute_result"
    },
    {
     "data": {
      "image/png": "[encoded data removed]",
      "text/plain": [
       "<Figure size 432x288 with 1 Axes>"
      ]
     },
     "metadata": {
      "needs_background": "light"
     },
     "output_type": "display_data"
    },
    {
     "data": {
      "image/png": "[encoded data removed]",
      "text/plain": [
       "<Figure size 432x288 with 1 Axes>"
      ]
     },
     "metadata": {
      "needs_background": "light"
     },
     "output_type": "display_data"
    }
   ],
   "source": [
    "plt.figure()\n",
    "plt.plot(RESULTS[0][0]['batch_loss'])\n",
    "\n",
    "plt.figure()\n",
    "plt.plot(RESULTS[0][0]['acc_train'])\n",
    "plt.plot(RESULTS[0][0]['acc_test'])"
   ]
  },
  {
   "cell_type": "code",
   "execution_count": 6,
   "metadata": {},
   "outputs": [
    {
     "data": {
      "application/vnd.jupyter.widget-view+json": {
       "model_id": "eaedd1897aea4e2fa0ec695ec05079ea",
       "version_major": 2,
       "version_minor": 0
      },
      "text/plain": [
       "QgridWidget(grid_options={'fullWidthRows': True, 'syncColumnCellResize': True, 'forceFitColumns': True, 'defau…"
      ]
     },
     "metadata": {},
     "output_type": "display_data"
    }
   ],
   "source": [
    "qgrid_widget = qgrid.show_grid(df_from_results(), show_toolbar=True)\n",
    "qgrid_widget"
   ]
  }
 ],
 "metadata": {
  "kernelspec": {
   "display_name": "Python 3",
   "language": "python",
   "name": "python3"
  },
  "language_info": {
   "codemirror_mode": {
    "name": "ipython",
    "version": 3
   },
   "file_extension": ".py",
   "mimetype": "text/x-python",
   "name": "python",
   "nbconvert_exporter": "python",
   "pygments_lexer": "ipython3",
   "version": "3.7.6"
  }
 },
 "nbformat": 4,
 "nbformat_minor": 2
}
