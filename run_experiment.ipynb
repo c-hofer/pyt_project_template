{
 "cells": [
  {
   "cell_type": "code",
   "execution_count": null,
   "metadata": {},
   "outputs": [],
   "source": [
    "%load_ext autoreload\n",
    "%autoreload 2"
   ]
  },
  {
   "cell_type": "code",
   "execution_count": null,
   "metadata": {},
   "outputs": [],
   "source": [
    "from core.experiment_blueprint import Blueprint"
   ]
  },
  {
   "cell_type": "code",
   "execution_count": null,
   "metadata": {},
   "outputs": [],
   "source": [
    "print(Blueprint.args_template())"
   ]
  },
  {
   "cell_type": "code",
   "execution_count": null,
   "metadata": {},
   "outputs": [],
   "source": [
    "args = \\\n",
    "{ \n",
    "    'output_root_dir' : '/tmp/testing/', \n",
    "    'num_runs' : 1, \n",
    "    'num_epochs': 100, \n",
    "    'tag' : 'test', \n",
    "    'model' : ('VGG', {'vgg_name': 'VGG16'}), \n",
    "    'batch_size' : 128, \n",
    "    'lr_init' : 0.01, \n",
    "    'weight_decay' : 0.001, \n",
    "    'ds_train' : 'cifar100_train', \n",
    "    'ds_test' : 'cifar100_test', \n",
    "    'eval_epoch': 1\n",
    "}\n",
    "exp = Blueprint(**args)"
   ]
  },
  {
   "cell_type": "code",
   "execution_count": null,
   "metadata": {},
   "outputs": [],
   "source": [
    "exp()"
   ]
  }
 ],
 "metadata": {
  "kernelspec": {
   "display_name": "Python 3",
   "language": "python",
   "name": "python3"
  },
  "language_info": {
   "codemirror_mode": {
    "name": "ipython",
    "version": 3
   },
   "file_extension": ".py",
   "mimetype": "text/x-python",
   "name": "python",
   "nbconvert_exporter": "python",
   "pygments_lexer": "ipython3",
   "version": "3.7.6"
  }
 },
 "nbformat": 4,
 "nbformat_minor": 4
}
